{
  "nbformat": 4,
  "nbformat_minor": 0,
  "metadata": {
    "colab": {
      "provenance": []
    },
    "kernelspec": {
      "name": "python3",
      "display_name": "Python 3"
    },
    "language_info": {
      "name": "python"
    }
  },
  "cells": [
    {
      "cell_type": "code",
      "execution_count": null,
      "metadata": {
        "id": "zcnxyVjTVXtO"
      },
      "outputs": [],
      "source": [
        "#Que number 1 #Write a Python program to print the numbers from 1 to 10 using a `for` loop.\n"
      ]
    },
    {
      "cell_type": "code",
      "source": [
        "for number in range(1, 11):\n",
        "    print(number)"
      ],
      "metadata": {
        "colab": {
          "base_uri": "https://localhost:8080/"
        },
        "id": "r4zR2QXUVxlh",
        "outputId": "ba82e6ad-1f7d-48f5-993d-78b77d70468e"
      },
      "execution_count": null,
      "outputs": [
        {
          "output_type": "stream",
          "name": "stdout",
          "text": [
            "1\n",
            "2\n",
            "3\n",
            "4\n",
            "5\n",
            "6\n",
            "7\n",
            "8\n",
            "9\n",
            "10\n"
          ]
        }
      ]
    },
    {
      "cell_type": "code",
      "source": [
        "#Que number 2#Create a program that calculates the sum of all numbers in a list using a `for` loop."
      ],
      "metadata": {
        "id": "X0AHwm7iV15f"
      },
      "execution_count": null,
      "outputs": []
    },
    {
      "cell_type": "code",
      "source": [
        "numbers =[1, 2, 3, 4, 5, 6, 7, 8, 9, 10]\n",
        "total = 0"
      ],
      "metadata": {
        "id": "1slGry5DYk1e"
      },
      "execution_count": null,
      "outputs": []
    },
    {
      "cell_type": "code",
      "source": [
        "for number in numbers:\n",
        "  total += number\n",
        "print(\"The sum of all numbers in the list is:\", total)"
      ],
      "metadata": {
        "colab": {
          "base_uri": "https://localhost:8080/"
        },
        "id": "c9DOil88Yy_V",
        "outputId": "b1df043f-15c2-4455-cf1d-6ff750621f54"
      },
      "execution_count": null,
      "outputs": [
        {
          "output_type": "stream",
          "name": "stdout",
          "text": [
            "The sum of all numbers in the list is: 55\n"
          ]
        }
      ]
    },
    {
      "cell_type": "code",
      "source": [
        "print(\"The sum of all nubers in the list is:\", total)"
      ],
      "metadata": {
        "colab": {
          "base_uri": "https://localhost:8080/"
        },
        "id": "bxaQ-WBDZLYI",
        "outputId": "3b5b4f31-5d61-4f14-8b9d-f44a41c7056a"
      },
      "execution_count": null,
      "outputs": [
        {
          "output_type": "stream",
          "name": "stdout",
          "text": [
            "The sum of all nubers in the list is: 55\n"
          ]
        }
      ]
    },
    {
      "cell_type": "code",
      "source": [
        "#Que number 3 #Write a program to print the characters of a string in reverse order using a `for` loop."
      ],
      "metadata": {
        "id": "WvEETxXXaF6_"
      },
      "execution_count": null,
      "outputs": []
    },
    {
      "cell_type": "code",
      "source": [
        "\n",
        "input_string = \"Hello, World!\"\n",
        "reversed_string = \"\"\n",
        "\n",
        "# Use a for loop to iterate through the string in reverse\n",
        "for char in reversed(input_string):\n",
        "    reversed_string += char\n",
        "print(reversed_string)\n"
      ],
      "metadata": {
        "colab": {
          "base_uri": "https://localhost:8080/"
        },
        "id": "PoL05Nw_aUGe",
        "outputId": "e6e64ded-f537-4f19-e0d8-d0b637aaccd8"
      },
      "execution_count": null,
      "outputs": [
        {
          "output_type": "stream",
          "name": "stdout",
          "text": [
            "!dlroW ,olleH\n"
          ]
        }
      ]
    },
    {
      "cell_type": "code",
      "source": [
        "#Que number 4 #Develop a program that finds the factorial of a given number using a `for` loop?"
      ],
      "metadata": {
        "id": "yY6gyn53af2R"
      },
      "execution_count": null,
      "outputs": []
    },
    {
      "cell_type": "code",
      "source": [
        "\n",
        "num = int(input(\"Enter a number: \"))\n",
        "\n",
        "# Initialize a variable to store the factorial\n",
        "factorial = 1\n",
        "\n",
        "# Use a for loop to calculate the factorial\n",
        "for i in range(1, num + 1):\n",
        "    factorial *= i\n",
        "\n",
        "print(f\"The factorial of {num} is {factorial}\")\n"
      ],
      "metadata": {
        "colab": {
          "base_uri": "https://localhost:8080/"
        },
        "id": "RcrqfjcTateC",
        "outputId": "333f7de4-cfcf-4dbd-83d2-115107b9acd0"
      },
      "execution_count": null,
      "outputs": [
        {
          "output_type": "stream",
          "name": "stdout",
          "text": [
            "Enter a number: 1\n",
            "The factorial of 1 is 1\n"
          ]
        }
      ]
    },
    {
      "cell_type": "code",
      "source": [
        "#Que number 5 #Create a program to print the multiplication table of a given number using a `for` loop."
      ],
      "metadata": {
        "id": "lGinlFZjcsKs"
      },
      "execution_count": null,
      "outputs": []
    },
    {
      "cell_type": "code",
      "source": [
        "num = int(input(\"Enter a number: \"))\n",
        "\n",
        "# Use a for loop to print the multiplication table\n",
        "print(f\"Multiplication table for {num}:\")\n",
        "for i in range(1, 11):\n",
        "    product = num * i\n",
        "    print(f\"{num} x {i} = {product}\")\n"
      ],
      "metadata": {
        "colab": {
          "base_uri": "https://localhost:8080/"
        },
        "id": "nENuwVj_dSH0",
        "outputId": "801b2431-0d53-49b6-f3db-d68c5cefe3c6"
      },
      "execution_count": null,
      "outputs": [
        {
          "output_type": "stream",
          "name": "stdout",
          "text": [
            "Enter a number: 5\n",
            "Multiplication table for 5:\n",
            "5 x 1 = 5\n",
            "5 x 2 = 10\n",
            "5 x 3 = 15\n",
            "5 x 4 = 20\n",
            "5 x 5 = 25\n",
            "5 x 6 = 30\n",
            "5 x 7 = 35\n",
            "5 x 8 = 40\n",
            "5 x 9 = 45\n",
            "5 x 10 = 50\n"
          ]
        }
      ]
    },
    {
      "cell_type": "code",
      "source": [
        "#Que number 6 #Write a program that counts the number of even and odd numbers in a list using a `for` loop?"
      ],
      "metadata": {
        "id": "iiaGaobFdgDB"
      },
      "execution_count": null,
      "outputs": []
    },
    {
      "cell_type": "code",
      "source": [
        "numbers = [1, 2, 3, 4, 5, 6, 7, 8, 9, 10, 11, 12, 13, 14, 15]\n",
        "\n",
        "# Initialize counters for even and odd numbers\n",
        "even_count = 0\n",
        "odd_count = 0\n",
        "\n",
        "for number in numbers:\n",
        "    if number % 2 == 0:\n",
        "        even_count += 1\n",
        "    else:\n",
        "        odd_count += 1\n",
        "\n",
        "print(\"Number of even numbers:\", even_count)\n",
        "print(\"Number of odd numbers:\", odd_count)\n"
      ],
      "metadata": {
        "colab": {
          "base_uri": "https://localhost:8080/"
        },
        "id": "Yu0qQZVOd6Zi",
        "outputId": "67705803-30c5-46fa-f779-03807e9eae74"
      },
      "execution_count": null,
      "outputs": [
        {
          "output_type": "stream",
          "name": "stdout",
          "text": [
            "Number of even numbers: 7\n",
            "Number of odd numbers: 8\n"
          ]
        }
      ]
    },
    {
      "cell_type": "code",
      "source": [
        "#Que number 7 #. Develop a program that prints the squares of numbers from 1 to 5 using a `for` loop?"
      ],
      "metadata": {
        "id": "tvzlD1BNeUsP"
      },
      "execution_count": null,
      "outputs": []
    },
    {
      "cell_type": "code",
      "source": [
        "# Use a for loop to print the squares of numbers from 1 to 5\n",
        "for number in range(1, 10):\n",
        "    square = number * number\n",
        "    print(f\"The square of {number} is {square}\")\n"
      ],
      "metadata": {
        "colab": {
          "base_uri": "https://localhost:8080/"
        },
        "id": "TiNosQhLe6J7",
        "outputId": "b518f08d-9323-46f3-c4c9-72d3d2ba0271"
      },
      "execution_count": null,
      "outputs": [
        {
          "output_type": "stream",
          "name": "stdout",
          "text": [
            "The square of 1 is 1\n",
            "The square of 2 is 4\n",
            "The square of 3 is 9\n",
            "The square of 4 is 16\n",
            "The square of 5 is 25\n",
            "The square of 6 is 36\n",
            "The square of 7 is 49\n",
            "The square of 8 is 64\n",
            "The square of 9 is 81\n"
          ]
        }
      ]
    },
    {
      "cell_type": "code",
      "source": [
        "for number in range(1, 15):\n",
        "  square = number * number\n",
        "  print(f\"The square of {number} is {square}\")"
      ],
      "metadata": {
        "colab": {
          "base_uri": "https://localhost:8080/"
        },
        "id": "ae-dGa4LfCpC",
        "outputId": "4cbd0cf9-a5ca-4760-cee0-78e31c16795f"
      },
      "execution_count": null,
      "outputs": [
        {
          "output_type": "stream",
          "name": "stdout",
          "text": [
            "The square of 1 is 1\n",
            "The square of 2 is 4\n",
            "The square of 3 is 9\n",
            "The square of 4 is 16\n",
            "The square of 5 is 25\n",
            "The square of 6 is 36\n",
            "The square of 7 is 49\n",
            "The square of 8 is 64\n",
            "The square of 9 is 81\n",
            "The square of 10 is 100\n",
            "The square of 11 is 121\n",
            "The square of 12 is 144\n",
            "The square of 13 is 169\n",
            "The square of 14 is 196\n"
          ]
        }
      ]
    },
    {
      "cell_type": "code",
      "source": [
        "#Que number 8. Create a program to find the length of a string without using the `len()` function?"
      ],
      "metadata": {
        "id": "TeGjYioefZH0"
      },
      "execution_count": null,
      "outputs": []
    },
    {
      "cell_type": "code",
      "source": [
        "\n",
        "input_string = input(\"Enter a string: \")\n",
        "\n",
        "# Initialize a variable to store the length\n",
        "length = 0\n",
        "\n",
        "\n",
        "for char in input_string:\n",
        "    length += 1\n",
        "\n",
        "print(\"Length of the string:\", length)\n"
      ],
      "metadata": {
        "colab": {
          "base_uri": "https://localhost:8080/"
        },
        "id": "1gCShSjygIFF",
        "outputId": "b0124e43-88ba-4770-d3fb-f4b78276786a"
      },
      "execution_count": null,
      "outputs": [
        {
          "output_type": "stream",
          "name": "stdout",
          "text": [
            "Enter a string: 1, 10\n",
            "Length of the string: 5\n"
          ]
        }
      ]
    },
    {
      "cell_type": "code",
      "source": [
        "#Que number 9 #Write a program that calculates the average of a list of numbers using a `for` loop?"
      ],
      "metadata": {
        "id": "SmfgXwRSgMKz"
      },
      "execution_count": null,
      "outputs": []
    },
    {
      "cell_type": "code",
      "source": [
        "numbers = [10, 20, 30, 40, 50]\n",
        "\n",
        "# Initialize variables for sum and count\n",
        "total = 0\n",
        "count = 0\n",
        "\n",
        "for number in numbers:\n",
        "    total += number\n",
        "    count += 1\n",
        "\n",
        "# Calculating the average\n",
        "average = total / count\n",
        "\n",
        "print(\"Average:\", average)\n"
      ],
      "metadata": {
        "colab": {
          "base_uri": "https://localhost:8080/"
        },
        "id": "pj0lMTp7hPtW",
        "outputId": "14c6d088-3e8e-4975-8929-43a8142a9f5a"
      },
      "execution_count": null,
      "outputs": [
        {
          "output_type": "stream",
          "name": "stdout",
          "text": [
            "Average: 30.0\n"
          ]
        }
      ]
    },
    {
      "cell_type": "code",
      "source": [
        "#Que number 10 #Develop a program that prints the first `n` Fibonacci numbers using a `for` loop?"
      ],
      "metadata": {
        "id": "pvkb29D1hkNN"
      },
      "execution_count": null,
      "outputs": []
    },
    {
      "cell_type": "code",
      "source": [
        "n = int(input(\"Enter the number of Fibonacci numbers to print: \"))\n",
        "\n",
        "# Initialize the first two Fibonacci numbers\n",
        "fibonacci_numbers = [0, 1]\n",
        "\n",
        "for i in range(2, n):\n",
        "    next_fibonacci = fibonacci_numbers[-1] + fibonacci_numbers[-2]\n",
        "    fibonacci_numbers.append(next_fibonacci)\n",
        "\n",
        "print(\"The first\", n, \"Fibonacci numbers are:\")\n",
        "for number in fibonacci_numbers:\n",
        "    print(number, end=\" \")\n"
      ],
      "metadata": {
        "colab": {
          "base_uri": "https://localhost:8080/"
        },
        "id": "JAJ_HWKkh7o5",
        "outputId": "0e218bcd-8df8-43c8-b608-bf3c655039c2"
      },
      "execution_count": null,
      "outputs": [
        {
          "output_type": "stream",
          "name": "stdout",
          "text": [
            "Enter the number of Fibonacci numbers to print: 10\n",
            "The first 10 Fibonacci numbers are:\n",
            "0 1 1 2 3 5 8 13 21 34 "
          ]
        }
      ]
    },
    {
      "cell_type": "code",
      "source": [
        "#Que number 11 #Write a program to check if a given list contains any duplicates using a `for` loop?"
      ],
      "metadata": {
        "id": "WdD6_yXgiOPM"
      },
      "execution_count": null,
      "outputs": []
    },
    {
      "cell_type": "code",
      "source": [
        "my_list = [1, 2, 3, 4, 5, 6, 7, 8, 9, 10]\n",
        "\n",
        "# Initialize a flag to indicate if duplicates are found\n",
        "has_duplicates = False\n",
        "\n",
        "for i in range(len(my_list)):\n",
        "    for j in range(i + 1, len(my_list)):\n",
        "        if my_list[i] == my_list[j]:\n",
        "            has_duplicates = True\n",
        "            break\n",
        "\n",
        "if has_duplicates:\n",
        "    print(\"The list contains duplicates.\")\n",
        "else:\n",
        "    print(\"The list does not contain duplicates.\")\n"
      ],
      "metadata": {
        "colab": {
          "base_uri": "https://localhost:8080/"
        },
        "id": "oi0ba8RTim2c",
        "outputId": "3d7541a0-20a6-4fd5-ce75-736e609e32aa"
      },
      "execution_count": null,
      "outputs": [
        {
          "output_type": "stream",
          "name": "stdout",
          "text": [
            "The list does not contain duplicates.\n"
          ]
        }
      ]
    },
    {
      "cell_type": "code",
      "source": [
        "#Que number 12 #Create a program that prints the prime numbers in a given range using a `for` loop?"
      ],
      "metadata": {
        "id": "Jy6nojzejBjN"
      },
      "execution_count": null,
      "outputs": []
    },
    {
      "cell_type": "code",
      "source": [
        "start = int(input(\"Enter the start of the range: \"))\n",
        "end = int(input(\"Enter the end of the range: \"))\n",
        "\n",
        "# Initialize a list to store prime numbers\n",
        "prime_numbers = []\n",
        "\n",
        "for num in range(start, end + 1):\n",
        "    if num > 1:\n",
        "        is_prime = True\n",
        "        for i in range(2, int(num ** 0.5) + 1):\n",
        "            if num % i == 0:\n",
        "                is_prime = False\n",
        "                break\n",
        "        if is_prime:\n",
        "            prime_numbers.append(num)\n",
        "\n",
        "print(f\"Prime numbers in the range from {start} to {end}:\")\n",
        "for prime in prime_numbers:\n",
        "    print(prime, end=\" \")\n"
      ],
      "metadata": {
        "colab": {
          "base_uri": "https://localhost:8080/"
        },
        "id": "Gz7xOEkLjQ4F",
        "outputId": "129b2eaf-bdfd-4b83-a108-4a4fed8ebe0d"
      },
      "execution_count": null,
      "outputs": [
        {
          "output_type": "stream",
          "name": "stdout",
          "text": [
            "Enter the start of the range: 20\n",
            "Enter the end of the range: 50\n",
            "Prime numbers in the range from 20 to 50:\n",
            "23 29 31 37 41 43 47 "
          ]
        }
      ]
    },
    {
      "cell_type": "code",
      "source": [
        "#Que number 13 #  Develop a program that counts the number of vowels in a string using a `for` loop."
      ],
      "metadata": {
        "id": "Bv9bdI_Gje0w"
      },
      "execution_count": null,
      "outputs": []
    },
    {
      "cell_type": "code",
      "source": [
        "input_string = input(\"Enter a string: \")\n",
        "\n",
        "# Convert the input string to lowercase to handle both uppercase and lowercase vowels\n",
        "input_string = input_string.lower()\n",
        "\n",
        "# Initialize a variable to store the count of vowels\n",
        "vowel_count = 0\n",
        "\n",
        "# Define a set of vowels\n",
        "vowels = set(\"aeiou\")\n",
        "\n",
        "# Use a for loop to iterate through the characters in the string\n",
        "for char in input_string:\n",
        "    if char in vowels:\n",
        "        vowel_count += 1\n",
        "\n",
        "print(\"Number of vowels in the string:\", vowel_count)\n"
      ],
      "metadata": {
        "colab": {
          "base_uri": "https://localhost:8080/"
        },
        "id": "t8LgXNlwj_VU",
        "outputId": "64330796-64e5-4066-9f41-c3585f64cd46"
      },
      "execution_count": null,
      "outputs": [
        {
          "output_type": "stream",
          "name": "stdout",
          "text": [
            "Enter a string: a,e,i,o,u\n",
            "Number of vowels in the string: 5\n"
          ]
        }
      ]
    },
    {
      "cell_type": "code",
      "source": [
        "#Que number 14 #Write a program to find the maximum element in a 2D list using a nested `for` loop?"
      ],
      "metadata": {
        "id": "d691aN1fkS-0"
      },
      "execution_count": null,
      "outputs": []
    },
    {
      "cell_type": "code",
      "source": [
        "# Define a 2D list (matrix)\n",
        "matrix = [\n",
        "    [20, 30, 40],\n",
        "    [50, 60, 70],\n",
        "    [80, 90, 100]\n",
        "]\n",
        "\n",
        "max_element = matrix[0][0]\n",
        "\n",
        "# Use nested for loops to iterate through the matrix\n",
        "for row in matrix:\n",
        "    for element in row:\n",
        "        if element > max_element:\n",
        "            max_element = element\n",
        "\n",
        "print(\"The maximum element in the matrix is:\", max_element)\n"
      ],
      "metadata": {
        "colab": {
          "base_uri": "https://localhost:8080/"
        },
        "id": "IYjTLQdRkup8",
        "outputId": "83fd6fcc-c022-415d-af77-1c970309b79b"
      },
      "execution_count": null,
      "outputs": [
        {
          "output_type": "stream",
          "name": "stdout",
          "text": [
            "The maximum element in the matrix is: 100\n"
          ]
        }
      ]
    },
    {
      "cell_type": "code",
      "source": [
        "#Que number 15 # Create a program that removes all occurrences of a specific element from a list using a `for` loop?"
      ],
      "metadata": {
        "id": "iF9PAUdXlJDN"
      },
      "execution_count": null,
      "outputs": []
    },
    {
      "cell_type": "code",
      "source": [
        "my_list = [1, 2, 3, 4, 3, 5, 6, 3, 6, 7]\n",
        "\n",
        "element_to_remove = int(input(\"Enter the element to remove: \"))\n",
        "\n",
        "# Use a for loop to remove all occurrences of the element\n",
        "for item in my_list:\n",
        "    if item == element_to_remove:\n",
        "        my_list.remove(item)\n",
        "\n",
        "print(\"List after removing all occurrences of\", element_to_remove, \":\", my_list)\n"
      ],
      "metadata": {
        "colab": {
          "base_uri": "https://localhost:8080/"
        },
        "id": "cTtffwcXlbRx",
        "outputId": "10576dde-114e-4ab9-eca5-26c9de2e798d"
      },
      "execution_count": null,
      "outputs": [
        {
          "output_type": "stream",
          "name": "stdout",
          "text": [
            "Enter the element to remove: 2\n",
            "List after removing all occurrences of 2 : [1, 3, 4, 3, 5, 6, 3, 6, 7]\n"
          ]
        }
      ]
    },
    {
      "cell_type": "code",
      "source": [
        "#Que number #16. Develop a program that generates a multiplication table for numbers from 1 to 5 using a nested `for` loop."
      ],
      "metadata": {
        "id": "aQdxjwo-lyJc"
      },
      "execution_count": null,
      "outputs": []
    },
    {
      "cell_type": "code",
      "source": [
        "start = 5\n",
        "end = 10\n",
        "\n",
        "# Outer loop for the first factor (rows)\n",
        "for i in range(start, end + 5):\n",
        "    # Inner loop for the second factor (columns)\n",
        "    for j in range(start, end + 5):\n",
        "        product = i * j\n",
        "        print(f\"{i} x {j} = {product}\\t\", end=\"\")\n",
        "    # Move to the next row after finishing inner loop\n",
        "    print()\n"
      ],
      "metadata": {
        "colab": {
          "base_uri": "https://localhost:8080/"
        },
        "id": "sJ_pCU_-mGQT",
        "outputId": "58bb4cfb-8f13-4f99-dbec-bd1824dc3c3c"
      },
      "execution_count": null,
      "outputs": [
        {
          "output_type": "stream",
          "name": "stdout",
          "text": [
            "5 x 5 = 25\t5 x 6 = 30\t5 x 7 = 35\t5 x 8 = 40\t5 x 9 = 45\t5 x 10 = 50\t5 x 11 = 55\t5 x 12 = 60\t5 x 13 = 65\t5 x 14 = 70\t\n",
            "6 x 5 = 30\t6 x 6 = 36\t6 x 7 = 42\t6 x 8 = 48\t6 x 9 = 54\t6 x 10 = 60\t6 x 11 = 66\t6 x 12 = 72\t6 x 13 = 78\t6 x 14 = 84\t\n",
            "7 x 5 = 35\t7 x 6 = 42\t7 x 7 = 49\t7 x 8 = 56\t7 x 9 = 63\t7 x 10 = 70\t7 x 11 = 77\t7 x 12 = 84\t7 x 13 = 91\t7 x 14 = 98\t\n",
            "8 x 5 = 40\t8 x 6 = 48\t8 x 7 = 56\t8 x 8 = 64\t8 x 9 = 72\t8 x 10 = 80\t8 x 11 = 88\t8 x 12 = 96\t8 x 13 = 104\t8 x 14 = 112\t\n",
            "9 x 5 = 45\t9 x 6 = 54\t9 x 7 = 63\t9 x 8 = 72\t9 x 9 = 81\t9 x 10 = 90\t9 x 11 = 99\t9 x 12 = 108\t9 x 13 = 117\t9 x 14 = 126\t\n",
            "10 x 5 = 50\t10 x 6 = 60\t10 x 7 = 70\t10 x 8 = 80\t10 x 9 = 90\t10 x 10 = 100\t10 x 11 = 110\t10 x 12 = 120\t10 x 13 = 130\t10 x 14 = 140\t\n",
            "11 x 5 = 55\t11 x 6 = 66\t11 x 7 = 77\t11 x 8 = 88\t11 x 9 = 99\t11 x 10 = 110\t11 x 11 = 121\t11 x 12 = 132\t11 x 13 = 143\t11 x 14 = 154\t\n",
            "12 x 5 = 60\t12 x 6 = 72\t12 x 7 = 84\t12 x 8 = 96\t12 x 9 = 108\t12 x 10 = 120\t12 x 11 = 132\t12 x 12 = 144\t12 x 13 = 156\t12 x 14 = 168\t\n",
            "13 x 5 = 65\t13 x 6 = 78\t13 x 7 = 91\t13 x 8 = 104\t13 x 9 = 117\t13 x 10 = 130\t13 x 11 = 143\t13 x 12 = 156\t13 x 13 = 169\t13 x 14 = 182\t\n",
            "14 x 5 = 70\t14 x 6 = 84\t14 x 7 = 98\t14 x 8 = 112\t14 x 9 = 126\t14 x 10 = 140\t14 x 11 = 154\t14 x 12 = 168\t14 x 13 = 182\t14 x 14 = 196\t\n"
          ]
        }
      ]
    },
    {
      "cell_type": "code",
      "source": [
        "#Que number 17. Write a program that converts a list of Fahrenheit temperatures to Celsius using a `for` loop."
      ],
      "metadata": {
        "id": "ZN4-XvRImPvu"
      },
      "execution_count": null,
      "outputs": []
    },
    {
      "cell_type": "code",
      "source": [
        "# Define a list of Fahrenheit temperatures\n",
        "fahrenheit_temperatures = [22, 45, 88, 312, 0]\n",
        "\n",
        "celsius_temperatures = []\n",
        "\n",
        "# Convert Fahrenheit to Celsius using a for loop\n",
        "for fahrenheit in fahrenheit_temperatures:\n",
        "    celsius = (fahrenheit - 22) * 5/9\n",
        "    celsius_temperatures.append(celsius)\n",
        "\n",
        "for i in range(len(fahrenheit_temperatures)):\n",
        "    print(f\"{fahrenheit_temperatures[i]}°F = {celsius_temperatures[i]:.2f}°C\")\n"
      ],
      "metadata": {
        "colab": {
          "base_uri": "https://localhost:8080/"
        },
        "id": "VBdhts9Jm1mY",
        "outputId": "e82f7c75-d5e6-44b0-db98-ac97cefa24b2"
      },
      "execution_count": null,
      "outputs": [
        {
          "output_type": "stream",
          "name": "stdout",
          "text": [
            "22°F = 0.00°C\n",
            "45°F = 12.78°C\n",
            "88°F = 36.67°C\n",
            "312°F = 161.11°C\n",
            "0°F = -12.22°C\n"
          ]
        }
      ]
    },
    {
      "cell_type": "code",
      "source": [
        "#Que number 18. Create a program to print the common elements from two lists using a `for` loop."
      ],
      "metadata": {
        "id": "7aTkrAHsnL3g"
      },
      "execution_count": null,
      "outputs": []
    },
    {
      "cell_type": "code",
      "source": [
        "list1 = [2, 4, 5, 6, 7]\n",
        "list2 = [3, 5, 7, 8, 9]\n",
        "\n",
        "# Initialize an empty list to store common elements\n",
        "common_elements = []\n",
        "\n",
        "# Iterate through list1 using a for loop\n",
        "for element1 in list1:\n",
        "    # Check if the element is also in list2\n",
        "    for element2 in list2:\n",
        "        if element1 == element2:\n",
        "            common_elements.append(element1)\n",
        "            break  # Exit the inner loop once a common element is found\n",
        "\n",
        "print(\"Common elements:\", common_elements)\n"
      ],
      "metadata": {
        "colab": {
          "base_uri": "https://localhost:8080/"
        },
        "id": "AA0LPtOkochs",
        "outputId": "24f02d10-c59f-4266-c1e9-1ee159501528"
      },
      "execution_count": null,
      "outputs": [
        {
          "output_type": "stream",
          "name": "stdout",
          "text": [
            "Common elements: [5, 7]\n"
          ]
        }
      ]
    },
    {
      "cell_type": "code",
      "source": [
        "#Que number 19. Develop a program that prints the pattern of right-angled triangles using a `for` loop. Use ‘*’ to draw the pattern"
      ],
      "metadata": {
        "id": "IYc534uEpD4n"
      },
      "execution_count": null,
      "outputs": []
    },
    {
      "cell_type": "code",
      "source": [
        "# Define the height of the right-angled triangle\n",
        "height = 8  # we can change this value to adjust the height of the triangle\n",
        "\n",
        "# Loop to print the right-angled triangle\n",
        "for i in range(1, height + 1):\n",
        "    # Loop to print '*' characters in each row\n",
        "    for j in range(1, i + 1):\n",
        "        print(\"*\", end=\" \")  # Print a '*' character and a space without moving to the next line\n",
        "    print()  # Move to the next line after finishing each row\n"
      ],
      "metadata": {
        "colab": {
          "base_uri": "https://localhost:8080/"
        },
        "id": "Yo4ZID1Upo09",
        "outputId": "f2149f9f-174c-4bba-e5cf-cac28f2fc8a0"
      },
      "execution_count": null,
      "outputs": [
        {
          "output_type": "stream",
          "name": "stdout",
          "text": [
            "* \n",
            "* * \n",
            "* * * \n",
            "* * * * \n",
            "* * * * * \n",
            "* * * * * * \n",
            "* * * * * * * \n",
            "* * * * * * * * \n"
          ]
        }
      ]
    },
    {
      "cell_type": "code",
      "source": [
        "#Que number 20.Write a program to find the greatest common divisor (GCD) of two numbers using a `for` loop."
      ],
      "metadata": {
        "id": "MnVTW3Smp8U_"
      },
      "execution_count": null,
      "outputs": []
    },
    {
      "cell_type": "code",
      "source": [
        "def find_gcd(a, b):\n",
        "    while b:\n",
        "        a, b = b, a % b\n",
        "    return a\n",
        "\n",
        "# Input the two numbers\n",
        "num1 = int(input(\"Enter the first number: \"))\n",
        "num2 = int(input(\"Enter the second number: \"))\n",
        "\n",
        "# Call the function to find the GCD\n",
        "gcd = find_gcd(num1, num2)\n",
        "\n",
        "print(f\"The GCD of {num1} and {num2} is {gcd}\")\n"
      ],
      "metadata": {
        "colab": {
          "base_uri": "https://localhost:8080/"
        },
        "id": "qilhA4rgqYfx",
        "outputId": "35eef291-2f6d-4ccf-e5e1-9957a758492a"
      },
      "execution_count": null,
      "outputs": [
        {
          "output_type": "stream",
          "name": "stdout",
          "text": [
            "Enter the first number: 4\n",
            "Enter the second number: 6\n",
            "The GCD of 4 and 6 is 2\n"
          ]
        }
      ]
    },
    {
      "cell_type": "code",
      "source": [
        "#Que number #21. Create a program that calculates the sum of the digits of numbers in a list using a list comprehension."
      ],
      "metadata": {
        "id": "RB4FgpN6rFUL"
      },
      "execution_count": null,
      "outputs": []
    },
    {
      "cell_type": "code",
      "source": [
        "numbers = [123, 45, 6789, 555]\n",
        "\n",
        "# Define a list comprehension to calculate the sum of digits for each number\n",
        "digit_sums = [sum(int(digit) for digit in str(num)) for num in numbers]\n",
        "\n",
        "\n",
        "for i in range(len(numbers)):\n",
        "    print(f\"Number: {numbers[i]}, Digit Sum: {digit_sums[i]}\")\n"
      ],
      "metadata": {
        "colab": {
          "base_uri": "https://localhost:8080/"
        },
        "id": "-zjkYwG0rf1K",
        "outputId": "6dc3da37-4ac5-45ed-9b30-8b65d7be3c30"
      },
      "execution_count": null,
      "outputs": [
        {
          "output_type": "stream",
          "name": "stdout",
          "text": [
            "Number: 123, Digit Sum: 6\n",
            "Number: 45, Digit Sum: 9\n",
            "Number: 6789, Digit Sum: 30\n",
            "Number: 555, Digit Sum: 15\n"
          ]
        }
      ]
    },
    {
      "cell_type": "code",
      "source": [
        "#Que number 22. Write a program to find the prime factors of a given number using a `for` loop and list comprehension."
      ],
      "metadata": {
        "id": "UF-A9RucsE-P"
      },
      "execution_count": null,
      "outputs": []
    },
    {
      "cell_type": "code",
      "source": [
        "def prime_factors(n):\n",
        "    factors = []\n",
        "    # Find and append 2s as long as n is divisible by 2\n",
        "    while n % 2 == 0:\n",
        "        factors.append(2)\n",
        "        n //= 2\n",
        "    # Find prime factors for odd numbers\n",
        "    for i in range(3, int(n**0.5) + 1, 2):\n",
        "        while n % i == 0:\n",
        "            factors.append(i)\n",
        "            n //= i\n",
        "    # If n is still greater than 1, it's a prime number itself\n",
        "    if n > 1:\n",
        "        factors.append(n)\n",
        "    return factors\n",
        "\n",
        "num = int(input(\"Enter a number: \"))\n",
        "\n",
        "# Call the function to find the prime factors\n",
        "factors = prime_factors(num)\n",
        "\n",
        "print(f\"The prime factors of {num} are: {factors}\")\n"
      ],
      "metadata": {
        "colab": {
          "base_uri": "https://localhost:8080/"
        },
        "id": "wvwMOYRgsgiO",
        "outputId": "b67976ed-d7b7-4fd9-ccdc-3ec5b7c3f690"
      },
      "execution_count": null,
      "outputs": [
        {
          "output_type": "stream",
          "name": "stdout",
          "text": [
            "Enter a number: 4\n",
            "The prime factors of 4 are: [2, 2]\n"
          ]
        }
      ]
    },
    {
      "cell_type": "code",
      "source": [
        "#Que number 23. Develop a program that extracts unique elements from a list and stores them in a new list using a list comprehension."
      ],
      "metadata": {
        "id": "cWWEetqItIRv"
      },
      "execution_count": null,
      "outputs": []
    },
    {
      "cell_type": "code",
      "source": [
        "original_list = [1, 2, 2, 3, 4, 4, 5, 6, 6, 7]\n",
        "\n",
        "# Use a list comprehension to extract unique elements\n",
        "unique_list = []\n",
        "[unique_list.append(x) for x in original_list if x not in unique_list]\n",
        "\n",
        "print(\"Original List:\", original_list)\n",
        "print(\"Unique Elements:\", unique_list)\n"
      ],
      "metadata": {
        "colab": {
          "base_uri": "https://localhost:8080/"
        },
        "id": "-2byrYXMtjp4",
        "outputId": "70220976-c07f-4a6d-82d4-c35cdf0fa636"
      },
      "execution_count": null,
      "outputs": [
        {
          "output_type": "stream",
          "name": "stdout",
          "text": [
            "Original List: [1, 2, 2, 3, 4, 4, 5, 6, 6, 7]\n",
            "Unique Elements: [1, 2, 3, 4, 5, 6, 7]\n"
          ]
        }
      ]
    },
    {
      "cell_type": "code",
      "source": [
        "#Que number 24. Create a program that generates a list of all palindromic numbers up to a specified limit using a list comprehension."
      ],
      "metadata": {
        "id": "LH0Qb5QCuHTp"
      },
      "execution_count": null,
      "outputs": []
    },
    {
      "cell_type": "code",
      "source": [
        "def is_palindrome(num):\n",
        "    return str(num) == str(num)[::-1]\n",
        "\n",
        "limit = int(input(\"Enter the limit: \"))\n",
        "\n",
        "# Use a list comprehension to generate palindromic numbers\n",
        "palindromic_numbers = [num for num in range(1, limit + 1) if is_palindrome(num)]\n",
        "\n",
        "\n",
        "print(\"Palindromic Numbers up to\", limit, \"are:\", palindromic_numbers)\n"
      ],
      "metadata": {
        "colab": {
          "base_uri": "https://localhost:8080/"
        },
        "id": "Af416s-CuhQN",
        "outputId": "083b6e34-7c9b-4360-a1df-4c2f4793faf7"
      },
      "execution_count": null,
      "outputs": [
        {
          "output_type": "stream",
          "name": "stdout",
          "text": [
            "Enter the limit: 200\n",
            "Palindromic Numbers up to 200 are: [1, 2, 3, 4, 5, 6, 7, 8, 9, 11, 22, 33, 44, 55, 66, 77, 88, 99, 101, 111, 121, 131, 141, 151, 161, 171, 181, 191]\n"
          ]
        }
      ]
    },
    {
      "cell_type": "code",
      "source": [
        "#Que number 25. Write a program to flatten a nested list using list comprehension.\n"
      ],
      "metadata": {
        "id": "aXUPiVGTu7Ni"
      },
      "execution_count": null,
      "outputs": []
    },
    {
      "cell_type": "code",
      "source": [
        "# Function to flatten a nested list using recursion\n",
        "def flatten_list(nested_list):\n",
        "    flattened = []\n",
        "  for item in nested_list:\n",
        "  if isinstance(item, list):\n",
        "            flattened.extend(flatten_list(item))\n",
        "        else:\n",
        "            flattened.append(item)\n",
        "    return flattened\n",
        "\n",
        "# Nested list with some sublists\n",
        "nested_list = [1, [2, 3], [4, [5, 6]], 7, [8]]\n",
        "\n",
        "# Use list comprehension to flatten the nested list\n",
        "flattened_list = [item for sublist in nested_list for item in flatten_list(sublist)]\n",
        "\n",
        "# Print the flattened list\n",
        "print(\"Original Nested List:\", nested_list)\n",
        "print(\"Flattened List:\", flattened_list)\n"
      ],
      "metadata": {
        "colab": {
          "base_uri": "https://localhost:8080/",
          "height": 142
        },
        "id": "Jrt6uMofvtSL",
        "outputId": "69ebd642-d2b1-46ee-df34-f6853d67ccde"
      },
      "execution_count": null,
      "outputs": [
        {
          "output_type": "error",
          "ename": "IndentationError",
          "evalue": "ignored",
          "traceback": [
            "\u001b[0;36m  File \u001b[0;32m\"<tokenize>\"\u001b[0;36m, line \u001b[0;32m4\u001b[0m\n\u001b[0;31m    for item in nested_list:\u001b[0m\n\u001b[0m    ^\u001b[0m\n\u001b[0;31mIndentationError\u001b[0m\u001b[0;31m:\u001b[0m unindent does not match any outer indentation level\n"
          ]
        }
      ]
    },
    {
      "cell_type": "code",
      "source": [
        "#Que number 26 #Develop a program that computes the sum of even and odd numbers in a list separately using list comprehension."
      ],
      "metadata": {
        "id": "qF5S-Z30wO1M"
      },
      "execution_count": null,
      "outputs": []
    },
    {
      "cell_type": "code",
      "source": [
        "numbers = [1, 2, 3, 4, 5, 6, 7, 8, 9, 10]\n",
        "\n",
        "# Use list comprehension to compute the sum of even and odd numbers separately\n",
        "even_sum = sum([num for num in numbers if num % 2 == 0])\n",
        "odd_sum = sum([num for num in numbers if num % 2 != 0])\n",
        "\n",
        "print(\"Original List:\", numbers)\n",
        "print(\"Sum of Even Numbers:\", even_sum)\n",
        "print(\"Sum of Odd Numbers:\", odd_sum)\n"
      ],
      "metadata": {
        "colab": {
          "base_uri": "https://localhost:8080/"
        },
        "id": "h4cKslk8xsfs",
        "outputId": "6a21b24d-b5ed-4f02-e8bd-c43a0574ab4c"
      },
      "execution_count": null,
      "outputs": [
        {
          "output_type": "stream",
          "name": "stdout",
          "text": [
            "Original List: [1, 2, 3, 4, 5, 6, 7, 8, 9, 10]\n",
            "Sum of Even Numbers: 30\n",
            "Sum of Odd Numbers: 25\n"
          ]
        }
      ]
    },
    {
      "cell_type": "code",
      "source": [
        "#Que number 27. Create a program that generates a list of squares of odd numbers between 1 and 10 using list comprehension."
      ],
      "metadata": {
        "id": "aV8NCtOY0BeF"
      },
      "execution_count": null,
      "outputs": []
    },
    {
      "cell_type": "code",
      "source": [
        "# Use list comprehension to generate a list of squares of odd numbers\n",
        "squares_of_odd_numbers = [x**2 for x in range(1, 11) if x % 2 != 0]\n",
        "\n",
        "\n",
        "print(\"Squares of Odd Numbers between 1 and 10:\", squares_of_odd_numbers)\n"
      ],
      "metadata": {
        "colab": {
          "base_uri": "https://localhost:8080/"
        },
        "id": "RQisO7AT1Ghw",
        "outputId": "7b0b9b51-c112-4c81-cace-17c3048ddb45"
      },
      "execution_count": null,
      "outputs": [
        {
          "output_type": "stream",
          "name": "stdout",
          "text": [
            "Squares of Odd Numbers between 1 and 10: [1, 9, 25, 49, 81]\n"
          ]
        }
      ]
    },
    {
      "cell_type": "code",
      "source": [
        "#Que number 28. Write a program that combines two lists into a dictionary using list comprehension."
      ],
      "metadata": {
        "id": "CaWa2hMG1LjC"
      },
      "execution_count": null,
      "outputs": []
    },
    {
      "cell_type": "code",
      "source": [
        "keys = [\"a\", \"b\", \"c\"]\n",
        "values = [1, 2, 3]\n",
        "\n",
        "# Use list comprehension to create a dictionary by pairing elements from both lists\n",
        "combined_dict = {key: value for key, value in zip(keys, values)}\n",
        "\n",
        "print(\"Combined Dictionary:\", combined_dict)\n"
      ],
      "metadata": {
        "colab": {
          "base_uri": "https://localhost:8080/"
        },
        "id": "8EfbesCM1krJ",
        "outputId": "a1b14624-d397-4e35-e8f0-bc2cdc5617bc"
      },
      "execution_count": null,
      "outputs": [
        {
          "output_type": "stream",
          "name": "stdout",
          "text": [
            "Combined Dictionary: {'a': 1, 'b': 2, 'c': 3}\n"
          ]
        }
      ]
    },
    {
      "cell_type": "code",
      "source": [
        "#Que number 29. Develop a program that extracts the vowels from a string and stores them in a list using list comprehension."
      ],
      "metadata": {
        "id": "KLB_j_A_2H9f"
      },
      "execution_count": null,
      "outputs": []
    },
    {
      "cell_type": "code",
      "source": [
        "input_string = input(\"Enter a string: \")\n",
        "\n",
        "# Use list comprehension to extract vowels and store them in a list\n",
        "vowels = [char for char in input_string if char.lower() in 'aeiou']\n",
        "\n",
        "print(\"Vowels in the string:\", vowels)\n"
      ],
      "metadata": {
        "colab": {
          "base_uri": "https://localhost:8080/"
        },
        "id": "B-HCHDQ52PSF",
        "outputId": "7ae7caca-f76d-44f6-9c9d-23a28d6f7d42"
      },
      "execution_count": null,
      "outputs": [
        {
          "output_type": "stream",
          "name": "stdout",
          "text": [
            "Enter a string: aeiou\n",
            "Vowels in the string: ['a', 'e', 'i', 'o', 'u']\n"
          ]
        }
      ]
    },
    {
      "cell_type": "code",
      "source": [
        "#Que number 30. Create a program that removes all non-numeric characters from a list of strings using list comprehension."
      ],
      "metadata": {
        "id": "OfmzQdwf2YSR"
      },
      "execution_count": null,
      "outputs": []
    },
    {
      "cell_type": "code",
      "source": [
        "string_list = [\"abc123\", \"456def\", \"789ghi\", \"jkl0mno\"]\n",
        "\n",
        "# Use list comprehension to remove non-numeric characters from each string\n",
        "numeric_strings = [''.join(char for char in string if char.isdigit()) for string in string_list]\n",
        "\n",
        "print(\"Original List:\", string_list)\n",
        "print(\"Numeric Strings:\", numeric_strings)\n"
      ],
      "metadata": {
        "colab": {
          "base_uri": "https://localhost:8080/"
        },
        "id": "GYsD0hjD2tEd",
        "outputId": "9e00b909-00be-4476-dd6b-ac9f0d746f0e"
      },
      "execution_count": null,
      "outputs": [
        {
          "output_type": "stream",
          "name": "stdout",
          "text": [
            "Original List: ['abc123', '456def', '789ghi', 'jkl0mno']\n",
            "Numeric Strings: ['123', '456', '789', '0']\n"
          ]
        }
      ]
    },
    {
      "cell_type": "code",
      "source": [
        "#Que number 31 #Write a program to generate a list of prime numbers using the Sieve of Eratosthenes algorithm and list comprehension."
      ],
      "metadata": {
        "id": "Hm1Kv7hU3E1M"
      },
      "execution_count": 1,
      "outputs": []
    },
    {
      "cell_type": "code",
      "source": [
        "def sieve_eratosthenes(n):\n",
        "    # Create a boolean list \"is_prime\" and initialize all entries to True\n",
        "    is_prime = [True] * (n + 1)\n",
        "    is_prime[0] = is_prime[1] = False  # 0 and 1 are not prime\n",
        "\n",
        "    # Mark multiples of each prime as non-prime starting from 2\n",
        "    for p in range(2, int(n**0.5) + 1):\n",
        "        if is_prime[p]:\n",
        "            for i in range(p * p, n + 1, p):\n",
        "                is_prime[i] = False\n",
        "\n",
        "    # Use list comprehension to generate a list of prime numbers\n",
        "    primes = [i for i in range(2, n + 1) if is_prime[i]]\n",
        "\n",
        "    return primes\n",
        "\n",
        "limit = 100\n",
        "prime_list = sieve_eratosthenes(limit)\n",
        "print(prime_list)\n"
      ],
      "metadata": {
        "colab": {
          "base_uri": "https://localhost:8080/"
        },
        "id": "b5eUdIHYqx0c",
        "outputId": "459607e7-f326-4478-cfa3-c146f862ec92"
      },
      "execution_count": 3,
      "outputs": [
        {
          "output_type": "stream",
          "name": "stdout",
          "text": [
            "[2, 3, 5, 7, 11, 13, 17, 19, 23, 29, 31, 37, 41, 43, 47, 53, 59, 61, 67, 71, 73, 79, 83, 89, 97]\n"
          ]
        }
      ]
    },
    {
      "cell_type": "code",
      "source": [
        "#Que number 32 #Create a program that generates a list of all Pythagorean triplets up to a specified limit using list comprehension."
      ],
      "metadata": {
        "id": "-jFgomv3q_7r"
      },
      "execution_count": 4,
      "outputs": []
    },
    {
      "cell_type": "code",
      "source": [
        "def generate_pythagorean_triplets(limit):\n",
        "    triplets = [(a, b, c) for a in range(1, limit)\n",
        "                         for b in range(a, limit)\n",
        "                         for c in range(b, limit)\n",
        "                         if a**2 + b**2 == c**2]\n",
        "    return triplets\n",
        "limit = 30  # Change this value as needed\n",
        "pythagorean_triplets = generate_pythagorean_triplets(limit)\n",
        "print(pythagorean_triplets)\n"
      ],
      "metadata": {
        "colab": {
          "base_uri": "https://localhost:8080/"
        },
        "id": "_bpYYojvstAM",
        "outputId": "e787cdf7-5eda-4314-c3ab-0a1bc966ca02"
      },
      "execution_count": 7,
      "outputs": [
        {
          "output_type": "stream",
          "name": "stdout",
          "text": [
            "[(3, 4, 5), (5, 12, 13), (6, 8, 10), (7, 24, 25), (8, 15, 17), (9, 12, 15), (10, 24, 26), (12, 16, 20), (15, 20, 25), (20, 21, 29)]\n"
          ]
        }
      ]
    },
    {
      "cell_type": "code",
      "source": [
        "#Que number 33 #Develop a program that generates a list of all possible combinations of two lists using list comprehension."
      ],
      "metadata": {
        "id": "G9ns6uMks2zd"
      },
      "execution_count": 8,
      "outputs": []
    },
    {
      "cell_type": "code",
      "source": [
        "list1 = [1, 2, 3]\n",
        "list2 = ['a', 'b', 'c']\n",
        "\n",
        "combinations = [(x, y) for x in list1 for y in list2]\n",
        "\n",
        "print(combinations)\n"
      ],
      "metadata": {
        "colab": {
          "base_uri": "https://localhost:8080/"
        },
        "id": "TpOnpIdhtNpl",
        "outputId": "ed2c8978-726e-4387-9150-e17e2d950954"
      },
      "execution_count": 9,
      "outputs": [
        {
          "output_type": "stream",
          "name": "stdout",
          "text": [
            "[(1, 'a'), (1, 'b'), (1, 'c'), (2, 'a'), (2, 'b'), (2, 'c'), (3, 'a'), (3, 'b'), (3, 'c')]\n"
          ]
        }
      ]
    },
    {
      "cell_type": "code",
      "source": [
        "#Que number 34 #Write a program that calculates the mean, median, and mode of a list of numbers using list comprehension."
      ],
      "metadata": {
        "id": "Gq1tuXz5t0Em"
      },
      "execution_count": 11,
      "outputs": []
    },
    {
      "cell_type": "code",
      "source": [
        "from statistics import mean, median, mode\n",
        "\n",
        "numbers = [1, 2, 2, 3, 4, 5, 5, 5, 6]\n",
        "\n",
        "# Calculate mean, median, and mode using list comprehension\n",
        "mean_value = mean(numbers)\n",
        "median_value = median(numbers)\n",
        "try:\n",
        "    mode_value = mode(numbers)\n",
        "except StatisticsError:\n",
        "    mode_value = \"No unique mode found\"\n",
        "\n",
        "print(f\"Mean: {mean_value}\")\n",
        "print(f\"Median: {median_value}\")\n",
        "print(f\"Mode: {mode_value}\")\n"
      ],
      "metadata": {
        "colab": {
          "base_uri": "https://localhost:8080/"
        },
        "id": "L8Glowm-uSw8",
        "outputId": "c5dcb21d-a06a-44a8-cc58-b2dcb474b791"
      },
      "execution_count": 12,
      "outputs": [
        {
          "output_type": "stream",
          "name": "stdout",
          "text": [
            "Mean: 3.6666666666666665\n",
            "Median: 4\n",
            "Mode: 5\n"
          ]
        }
      ]
    },
    {
      "cell_type": "code",
      "source": [
        "#Que number 35 #Create a program that generates Pascal's triangle up to a specified number of rows using list comprehension."
      ],
      "metadata": {
        "id": "22DxBuXMuxZm"
      },
      "execution_count": 13,
      "outputs": []
    },
    {
      "cell_type": "code",
      "source": [
        "def generate_pascals_triangle(rows):\n",
        "    if rows <= 0:\n",
        "        return []\n",
        "\n",
        "    triangle = [[1]]\n",
        "\n",
        "    for _ in range(1, rows):\n",
        "        row = [1] + [triangle[-1][i] + triangle[-1][i + 1] for i in range(len(triangle[-1]) - 1)] + [1]\n",
        "        triangle.append(row)\n",
        "\n",
        "    return triangle\n",
        "\n",
        "num_rows = 7  # Change this value as needed\n",
        "pascals_triangle = generate_pascals_triangle(num_rows)\n",
        "\n",
        "for row in pascals_triangle:\n",
        "    print(row)\n"
      ],
      "metadata": {
        "colab": {
          "base_uri": "https://localhost:8080/"
        },
        "id": "e23-UtPgvrcm",
        "outputId": "b3a4f735-83e8-464f-fc5e-617d02b2025a"
      },
      "execution_count": 15,
      "outputs": [
        {
          "output_type": "stream",
          "name": "stdout",
          "text": [
            "[1]\n",
            "[1, 1]\n",
            "[1, 2, 1]\n",
            "[1, 3, 3, 1]\n",
            "[1, 4, 6, 4, 1]\n",
            "[1, 5, 10, 10, 5, 1]\n",
            "[1, 6, 15, 20, 15, 6, 1]\n"
          ]
        }
      ]
    },
    {
      "cell_type": "code",
      "source": [
        "#Que number 36#Develop a program that calculates the sum of the digits of a factorial of numbers from 1 to 5 using list comprehension."
      ],
      "metadata": {
        "id": "C82d4eC4v0JH"
      },
      "execution_count": 16,
      "outputs": []
    },
    {
      "cell_type": "code",
      "source": [
        "def factorial(n):\n",
        "    if n == 0 or n == 1:\n",
        "        return 1\n",
        "    else:\n",
        "        return n * factorial(n - 1)\n",
        "\n",
        "def sum_of_digits(num):\n",
        "    return sum(int(digit) for digit in str(num))\n",
        "\n",
        "\n",
        "factorials = [factorial(i) for i in range(1, 8)]\n",
        "digit_sums = [sum_of_digits(factorial) for factorial in factorials]\n",
        "\n",
        "# Print the results\n",
        "for i, factorial_num in enumerate(factorials, start=1):\n",
        "    print(f\"Factorial of {i} is {factorial_num}, and the sum of its digits is {digit_sums[i-1]}\")\n"
      ],
      "metadata": {
        "colab": {
          "base_uri": "https://localhost:8080/"
        },
        "id": "dlh6y6FhwQn_",
        "outputId": "96a40dca-89e6-41f4-a7ee-13716c3cafb5"
      },
      "execution_count": 18,
      "outputs": [
        {
          "output_type": "stream",
          "name": "stdout",
          "text": [
            "Factorial of 1 is 1, and the sum of its digits is 1\n",
            "Factorial of 2 is 2, and the sum of its digits is 2\n",
            "Factorial of 3 is 6, and the sum of its digits is 6\n",
            "Factorial of 4 is 24, and the sum of its digits is 6\n",
            "Factorial of 5 is 120, and the sum of its digits is 3\n",
            "Factorial of 6 is 720, and the sum of its digits is 9\n",
            "Factorial of 7 is 5040, and the sum of its digits is 9\n"
          ]
        }
      ]
    },
    {
      "cell_type": "code",
      "source": [
        "#Que number 37 #Write a program that finds the longest word in a sentence using list comprehension."
      ],
      "metadata": {
        "id": "JPL0BBajxLfa"
      },
      "execution_count": 19,
      "outputs": []
    },
    {
      "cell_type": "code",
      "source": [
        "sentence = \"This is a sample sentence to find the longest word.\"\n",
        "\n",
        "words = sentence.split()\n",
        "\n",
        "longest_word = max(words, key=len)\n",
        "\n",
        "print(f\"The longest word in the sentence is: {longest_word}\")\n"
      ],
      "metadata": {
        "colab": {
          "base_uri": "https://localhost:8080/"
        },
        "id": "SHQ1yNaPxa-p",
        "outputId": "3120747f-20b5-4819-9da6-4da32d7a1e45"
      },
      "execution_count": 20,
      "outputs": [
        {
          "output_type": "stream",
          "name": "stdout",
          "text": [
            "The longest word in the sentence is: sentence\n"
          ]
        }
      ]
    },
    {
      "cell_type": "code",
      "source": [
        "#Que number 38  #Create a program that filters a list of strings to include only those with more than three vowels using list comprehension."
      ],
      "metadata": {
        "id": "xtMgeE9cxjz_"
      },
      "execution_count": 21,
      "outputs": []
    },
    {
      "cell_type": "code",
      "source": [
        "def count_vowels(string):\n",
        "    vowels = \"AEIOUaeiou\"\n",
        "    return sum(1 for char in string if char in vowels)\n",
        "\n",
        "string_list = [\"Hello\", \"Python\", \"Programming\", \"Vowels\", \"Example\"]\n",
        "\n",
        "filtered_strings = [string for string in string_list if count_vowels(string) > 3]\n",
        "\n",
        "\n",
        "print(\"Strings with more than three vowels:\")\n",
        "for string in filtered_strings:\n",
        "    print(string)\n"
      ],
      "metadata": {
        "colab": {
          "base_uri": "https://localhost:8080/"
        },
        "id": "lM02kMnZxuFk",
        "outputId": "630d6dc0-a184-481a-cdfa-a246e935b2e7"
      },
      "execution_count": 22,
      "outputs": [
        {
          "output_type": "stream",
          "name": "stdout",
          "text": [
            "Strings with more than three vowels:\n"
          ]
        }
      ]
    },
    {
      "cell_type": "code",
      "source": [
        "#Que number 39 #Develop a program that calculates the sum of the digits of numbers from 1 to 1000 using list comprehension."
      ],
      "metadata": {
        "id": "1eWRdsMlyVKe"
      },
      "execution_count": 23,
      "outputs": []
    },
    {
      "cell_type": "code",
      "source": [
        "def sum_of_digits(n):\n",
        "    return sum(int(digit) for digit in str(n))\n",
        "\n",
        "# Use list comprehension to calculate the sum of digits for numbers from 1 to 2000\n",
        "digit_sums = [sum_of_digits(num) for num in range(1, 2001)]\n",
        "\n",
        "total_sum = sum(digit_sums)\n",
        "\n",
        "print(f\"The total sum of the digits from 1 to 1000 is: {total_sum}\")\n"
      ],
      "metadata": {
        "colab": {
          "base_uri": "https://localhost:8080/"
        },
        "id": "ZebQeRonyzcZ",
        "outputId": "177cd75d-b4c4-42de-b47c-792c301c966e"
      },
      "execution_count": 24,
      "outputs": [
        {
          "output_type": "stream",
          "name": "stdout",
          "text": [
            "The total sum of the digits from 1 to 1000 is: 28002\n"
          ]
        }
      ]
    },
    {
      "cell_type": "code",
      "source": [
        "#Que number 40 #Write a program that generates a list of prime palindromic numbers using list comprehension."
      ],
      "metadata": {
        "id": "8IWugR-f0FpE"
      },
      "execution_count": 33,
      "outputs": []
    },
    {
      "cell_type": "code",
      "source": [
        "def is_prime(n):\n",
        "    if n <= 1:\n",
        "        return False\n",
        "    if n <= 3:\n",
        "        return True\n",
        "    if n % 2 == 0 or n % 3 == 0:\n",
        "        return False\n",
        "    i = 5\n",
        "    while i * i <= n:\n",
        "        if n % i == 0 or n % (i + 2) == 0:\n",
        "            return False\n",
        "        i += 6\n",
        "    return True\n",
        "\n",
        "# Generate a list of prime palindromic numbers using list comprehension\n",
        "prime_palindromic_numbers = [num for num in range(1, 1000) if is_prime(num) and str(num) == str(num)[::-1]]\n",
        "\n",
        "print(\"Prime palindromic numbers:\")\n",
        "print(prime_palindromic_numbers)\n"
      ],
      "metadata": {
        "colab": {
          "base_uri": "https://localhost:8080/"
        },
        "id": "1Fq_uRfR07JQ",
        "outputId": "1d5f5b61-b46a-4e13-f311-70e3725fbd0e"
      },
      "execution_count": 35,
      "outputs": [
        {
          "output_type": "stream",
          "name": "stdout",
          "text": [
            "Prime palindromic numbers:\n",
            "[2, 3, 5, 7, 11, 101, 131, 151, 181, 191, 313, 353, 373, 383, 727, 757, 787, 797, 919, 929]\n"
          ]
        }
      ]
    },
    {
      "cell_type": "code",
      "source": [
        "#ThanksPWskillsteam"
      ],
      "metadata": {
        "id": "A99TdZZp1B01"
      },
      "execution_count": null,
      "outputs": []
    }
  ]
}